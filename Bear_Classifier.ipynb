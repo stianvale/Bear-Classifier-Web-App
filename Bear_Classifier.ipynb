{
  "nbformat": 4,
  "nbformat_minor": 0,
  "metadata": {
    "colab": {
      "name": "Bear Classifier.ipynb",
      "provenance": []
    },
    "kernelspec": {
      "name": "python3",
      "display_name": "Python 3"
    },
    "widgets": {
      "application/vnd.jupyter.widget-state+json": {
        "22a77a90eb5e40c4b25deab901bc9b2c": {
          "model_module": "@jupyter-widgets/controls",
          "model_name": "VBoxModel",
          "state": {
            "_view_name": "VBoxView",
            "_dom_classes": [],
            "_model_name": "VBoxModel",
            "_view_module": "@jupyter-widgets/controls",
            "_model_module_version": "1.5.0",
            "_view_count": null,
            "_view_module_version": "1.5.0",
            "box_style": "",
            "layout": "IPY_MODEL_dfad1ec6318547758dc1dad5ed8f44d6",
            "_model_module": "@jupyter-widgets/controls",
            "children": [
              "IPY_MODEL_abfd5b3608144e489383ec118770df3c",
              "IPY_MODEL_184a16dbeecc49f8a9fc0ee6b44b4e1f",
              "IPY_MODEL_d0ff8fbde5174a009f2bf1d254c50513",
              "IPY_MODEL_3e8a6e3d247d4e89a3ee3e0b57708253",
              "IPY_MODEL_5a5131ae59fe4942b5c1d4335f7b7991"
            ]
          }
        },
        "dfad1ec6318547758dc1dad5ed8f44d6": {
          "model_module": "@jupyter-widgets/base",
          "model_name": "LayoutModel",
          "state": {
            "_view_name": "LayoutView",
            "grid_template_rows": null,
            "right": null,
            "justify_content": null,
            "_view_module": "@jupyter-widgets/base",
            "overflow": null,
            "_model_module_version": "1.2.0",
            "_view_count": null,
            "flex_flow": null,
            "width": null,
            "min_width": null,
            "border": null,
            "align_items": null,
            "bottom": null,
            "_model_module": "@jupyter-widgets/base",
            "top": null,
            "grid_column": null,
            "overflow_y": null,
            "overflow_x": null,
            "grid_auto_flow": null,
            "grid_area": null,
            "grid_template_columns": null,
            "flex": null,
            "_model_name": "LayoutModel",
            "justify_items": null,
            "grid_row": null,
            "max_height": null,
            "align_content": null,
            "visibility": null,
            "align_self": null,
            "height": null,
            "min_height": null,
            "padding": null,
            "grid_auto_rows": null,
            "grid_gap": null,
            "max_width": null,
            "order": null,
            "_view_module_version": "1.2.0",
            "grid_template_areas": null,
            "object_position": null,
            "object_fit": null,
            "grid_auto_columns": null,
            "margin": null,
            "display": null,
            "left": null
          }
        },
        "abfd5b3608144e489383ec118770df3c": {
          "model_module": "@jupyter-widgets/controls",
          "model_name": "LabelModel",
          "state": {
            "_view_name": "LabelView",
            "style": "IPY_MODEL_62a0b714d97740e884664f0f65ea9f82",
            "_dom_classes": [],
            "description": "",
            "_model_name": "LabelModel",
            "placeholder": "​",
            "_view_module": "@jupyter-widgets/controls",
            "_model_module_version": "1.5.0",
            "value": "Select your bear!",
            "_view_count": null,
            "_view_module_version": "1.5.0",
            "description_tooltip": null,
            "_model_module": "@jupyter-widgets/controls",
            "layout": "IPY_MODEL_9f89b6e5bc2647e5aa4b8e65b1814b13"
          }
        },
        "184a16dbeecc49f8a9fc0ee6b44b4e1f": {
          "model_module": "@jupyter-widgets/controls",
          "model_name": "FileUploadModel",
          "state": {
            "_view_name": "FileUploadView",
            "_counter": 2,
            "style": "IPY_MODEL_21076e0dcf2f414f837384e865591acc",
            "_dom_classes": [],
            "description": "Upload",
            "multiple": false,
            "_model_name": "FileUploadModel",
            "data": [
              null
            ],
            "button_style": "",
            "_view_module": "@jupyter-widgets/controls",
            "_model_module_version": "1.5.0",
            "accept": "",
            "_view_count": null,
            "disabled": false,
            "_view_module_version": "1.5.0",
            "error": "",
            "description_tooltip": null,
            "metadata": [
              {
                "name": "export.pkl",
                "type": "",
                "size": 47021626,
                "lastModified": 1603375010691
              }
            ],
            "_model_module": "@jupyter-widgets/controls",
            "layout": "IPY_MODEL_25eff80bd7904e67865159353febb1a9",
            "icon": "upload"
          }
        },
        "d0ff8fbde5174a009f2bf1d254c50513": {
          "model_module": "@jupyter-widgets/controls",
          "model_name": "ButtonModel",
          "state": {
            "_view_name": "ButtonView",
            "style": "IPY_MODEL_fd5a01b1bc5b46f38de7019d81dcd031",
            "_dom_classes": [],
            "description": "Classify",
            "_model_name": "ButtonModel",
            "button_style": "",
            "_view_module": "@jupyter-widgets/controls",
            "_model_module_version": "1.5.0",
            "tooltip": "",
            "_view_count": null,
            "disabled": false,
            "_view_module_version": "1.5.0",
            "layout": "IPY_MODEL_0575834a66cb401780671b52ab0f78ca",
            "_model_module": "@jupyter-widgets/controls",
            "icon": ""
          }
        },
        "3e8a6e3d247d4e89a3ee3e0b57708253": {
          "model_module": "@jupyter-widgets/output",
          "model_name": "OutputModel",
          "state": {
            "_view_name": "OutputView",
            "msg_id": "",
            "_dom_classes": [],
            "_model_name": "OutputModel",
            "outputs": [
              {
                "output_type": "display_data",
                "metadata": {
                  "tags": []
                },
                "image/png": "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\n",
                "text/plain": "<PIL.Image.Image image mode=RGB size=128x128 at 0x7FE93552BE80>"
              }
            ],
            "_view_module": "@jupyter-widgets/output",
            "_model_module_version": "1.0.0",
            "_view_count": null,
            "_view_module_version": "1.0.0",
            "layout": "IPY_MODEL_25505b1170bb49ff8bab9785482d0103",
            "_model_module": "@jupyter-widgets/output"
          }
        },
        "5a5131ae59fe4942b5c1d4335f7b7991": {
          "model_module": "@jupyter-widgets/controls",
          "model_name": "LabelModel",
          "state": {
            "_view_name": "LabelView",
            "style": "IPY_MODEL_067b79d1b5e74bba9c5ebb8e109e08c4",
            "_dom_classes": [],
            "description": "",
            "_model_name": "LabelModel",
            "placeholder": "​",
            "_view_module": "@jupyter-widgets/controls",
            "_model_module_version": "1.5.0",
            "value": "Prediction: teddy; Probability: 1.0000",
            "_view_count": null,
            "_view_module_version": "1.5.0",
            "description_tooltip": null,
            "_model_module": "@jupyter-widgets/controls",
            "layout": "IPY_MODEL_dbf44f7bdb8f4999b2674f1666e07d8a"
          }
        },
        "62a0b714d97740e884664f0f65ea9f82": {
          "model_module": "@jupyter-widgets/controls",
          "model_name": "DescriptionStyleModel",
          "state": {
            "_view_name": "StyleView",
            "_model_name": "DescriptionStyleModel",
            "description_width": "",
            "_view_module": "@jupyter-widgets/base",
            "_model_module_version": "1.5.0",
            "_view_count": null,
            "_view_module_version": "1.2.0",
            "_model_module": "@jupyter-widgets/controls"
          }
        },
        "9f89b6e5bc2647e5aa4b8e65b1814b13": {
          "model_module": "@jupyter-widgets/base",
          "model_name": "LayoutModel",
          "state": {
            "_view_name": "LayoutView",
            "grid_template_rows": null,
            "right": null,
            "justify_content": null,
            "_view_module": "@jupyter-widgets/base",
            "overflow": null,
            "_model_module_version": "1.2.0",
            "_view_count": null,
            "flex_flow": null,
            "width": null,
            "min_width": null,
            "border": null,
            "align_items": null,
            "bottom": null,
            "_model_module": "@jupyter-widgets/base",
            "top": null,
            "grid_column": null,
            "overflow_y": null,
            "overflow_x": null,
            "grid_auto_flow": null,
            "grid_area": null,
            "grid_template_columns": null,
            "flex": null,
            "_model_name": "LayoutModel",
            "justify_items": null,
            "grid_row": null,
            "max_height": null,
            "align_content": null,
            "visibility": null,
            "align_self": null,
            "height": null,
            "min_height": null,
            "padding": null,
            "grid_auto_rows": null,
            "grid_gap": null,
            "max_width": null,
            "order": null,
            "_view_module_version": "1.2.0",
            "grid_template_areas": null,
            "object_position": null,
            "object_fit": null,
            "grid_auto_columns": null,
            "margin": null,
            "display": null,
            "left": null
          }
        },
        "21076e0dcf2f414f837384e865591acc": {
          "model_module": "@jupyter-widgets/controls",
          "model_name": "ButtonStyleModel",
          "state": {
            "_view_name": "StyleView",
            "_model_name": "ButtonStyleModel",
            "_view_module": "@jupyter-widgets/base",
            "_model_module_version": "1.5.0",
            "_view_count": null,
            "button_color": null,
            "font_weight": "",
            "_view_module_version": "1.2.0",
            "_model_module": "@jupyter-widgets/controls"
          }
        },
        "25eff80bd7904e67865159353febb1a9": {
          "model_module": "@jupyter-widgets/base",
          "model_name": "LayoutModel",
          "state": {
            "_view_name": "LayoutView",
            "grid_template_rows": null,
            "right": null,
            "justify_content": null,
            "_view_module": "@jupyter-widgets/base",
            "overflow": null,
            "_model_module_version": "1.2.0",
            "_view_count": null,
            "flex_flow": null,
            "width": null,
            "min_width": null,
            "border": null,
            "align_items": null,
            "bottom": null,
            "_model_module": "@jupyter-widgets/base",
            "top": null,
            "grid_column": null,
            "overflow_y": null,
            "overflow_x": null,
            "grid_auto_flow": null,
            "grid_area": null,
            "grid_template_columns": null,
            "flex": null,
            "_model_name": "LayoutModel",
            "justify_items": null,
            "grid_row": null,
            "max_height": null,
            "align_content": null,
            "visibility": null,
            "align_self": null,
            "height": null,
            "min_height": null,
            "padding": null,
            "grid_auto_rows": null,
            "grid_gap": null,
            "max_width": null,
            "order": null,
            "_view_module_version": "1.2.0",
            "grid_template_areas": null,
            "object_position": null,
            "object_fit": null,
            "grid_auto_columns": null,
            "margin": null,
            "display": null,
            "left": null
          }
        },
        "fd5a01b1bc5b46f38de7019d81dcd031": {
          "model_module": "@jupyter-widgets/controls",
          "model_name": "ButtonStyleModel",
          "state": {
            "_view_name": "StyleView",
            "_model_name": "ButtonStyleModel",
            "_view_module": "@jupyter-widgets/base",
            "_model_module_version": "1.5.0",
            "_view_count": null,
            "button_color": null,
            "font_weight": "",
            "_view_module_version": "1.2.0",
            "_model_module": "@jupyter-widgets/controls"
          }
        },
        "0575834a66cb401780671b52ab0f78ca": {
          "model_module": "@jupyter-widgets/base",
          "model_name": "LayoutModel",
          "state": {
            "_view_name": "LayoutView",
            "grid_template_rows": null,
            "right": null,
            "justify_content": null,
            "_view_module": "@jupyter-widgets/base",
            "overflow": null,
            "_model_module_version": "1.2.0",
            "_view_count": null,
            "flex_flow": null,
            "width": null,
            "min_width": null,
            "border": null,
            "align_items": null,
            "bottom": null,
            "_model_module": "@jupyter-widgets/base",
            "top": null,
            "grid_column": null,
            "overflow_y": null,
            "overflow_x": null,
            "grid_auto_flow": null,
            "grid_area": null,
            "grid_template_columns": null,
            "flex": null,
            "_model_name": "LayoutModel",
            "justify_items": null,
            "grid_row": null,
            "max_height": null,
            "align_content": null,
            "visibility": null,
            "align_self": null,
            "height": null,
            "min_height": null,
            "padding": null,
            "grid_auto_rows": null,
            "grid_gap": null,
            "max_width": null,
            "order": null,
            "_view_module_version": "1.2.0",
            "grid_template_areas": null,
            "object_position": null,
            "object_fit": null,
            "grid_auto_columns": null,
            "margin": null,
            "display": null,
            "left": null
          }
        },
        "067b79d1b5e74bba9c5ebb8e109e08c4": {
          "model_module": "@jupyter-widgets/controls",
          "model_name": "DescriptionStyleModel",
          "state": {
            "_view_name": "StyleView",
            "_model_name": "DescriptionStyleModel",
            "description_width": "",
            "_view_module": "@jupyter-widgets/base",
            "_model_module_version": "1.5.0",
            "_view_count": null,
            "_view_module_version": "1.2.0",
            "_model_module": "@jupyter-widgets/controls"
          }
        },
        "dbf44f7bdb8f4999b2674f1666e07d8a": {
          "model_module": "@jupyter-widgets/base",
          "model_name": "LayoutModel",
          "state": {
            "_view_name": "LayoutView",
            "grid_template_rows": null,
            "right": null,
            "justify_content": null,
            "_view_module": "@jupyter-widgets/base",
            "overflow": null,
            "_model_module_version": "1.2.0",
            "_view_count": null,
            "flex_flow": null,
            "width": null,
            "min_width": null,
            "border": null,
            "align_items": null,
            "bottom": null,
            "_model_module": "@jupyter-widgets/base",
            "top": null,
            "grid_column": null,
            "overflow_y": null,
            "overflow_x": null,
            "grid_auto_flow": null,
            "grid_area": null,
            "grid_template_columns": null,
            "flex": null,
            "_model_name": "LayoutModel",
            "justify_items": null,
            "grid_row": null,
            "max_height": null,
            "align_content": null,
            "visibility": null,
            "align_self": null,
            "height": null,
            "min_height": null,
            "padding": null,
            "grid_auto_rows": null,
            "grid_gap": null,
            "max_width": null,
            "order": null,
            "_view_module_version": "1.2.0",
            "grid_template_areas": null,
            "object_position": null,
            "object_fit": null,
            "grid_auto_columns": null,
            "margin": null,
            "display": null,
            "left": null
          }
        },
        "25505b1170bb49ff8bab9785482d0103": {
          "model_module": "@jupyter-widgets/base",
          "model_name": "LayoutModel",
          "state": {
            "_view_name": "LayoutView",
            "grid_template_rows": null,
            "right": null,
            "justify_content": null,
            "_view_module": "@jupyter-widgets/base",
            "overflow": null,
            "_model_module_version": "1.2.0",
            "_view_count": null,
            "flex_flow": null,
            "width": null,
            "min_width": null,
            "border": null,
            "align_items": null,
            "bottom": null,
            "_model_module": "@jupyter-widgets/base",
            "top": null,
            "grid_column": null,
            "overflow_y": null,
            "overflow_x": null,
            "grid_auto_flow": null,
            "grid_area": null,
            "grid_template_columns": null,
            "flex": null,
            "_model_name": "LayoutModel",
            "justify_items": null,
            "grid_row": null,
            "max_height": null,
            "align_content": null,
            "visibility": null,
            "align_self": null,
            "height": null,
            "min_height": null,
            "padding": null,
            "grid_auto_rows": null,
            "grid_gap": null,
            "max_width": null,
            "order": null,
            "_view_module_version": "1.2.0",
            "grid_template_areas": null,
            "object_position": null,
            "object_fit": null,
            "grid_auto_columns": null,
            "margin": null,
            "display": null,
            "left": null
          }
        }
      }
    }
  },
  "cells": [
    {
      "cell_type": "code",
      "metadata": {
        "id": "g624TAy4oKp1",
        "outputId": "499f567e-bf54-4e8f-ac81-220b66f6f096",
        "colab": {
          "base_uri": "https://localhost:8080/",
          "height": 34
        }
      },
      "source": [
        "#hide\n",
        "!pip install -Uqq fastbook\n",
        "import fastbook\n",
        "fastbook.setup_book()"
      ],
      "execution_count": 1,
      "outputs": [
        {
          "output_type": "stream",
          "text": [
            "Mounted at /content/gdrive\n"
          ],
          "name": "stdout"
        }
      ]
    },
    {
      "cell_type": "code",
      "metadata": {
        "id": "oD_WqaYqoUB9"
      },
      "source": [
        "#hide\n",
        "from fastbook import *\n",
        "from fastai.vision.widgets import *"
      ],
      "execution_count": 2,
      "outputs": []
    },
    {
      "cell_type": "code",
      "metadata": {
        "id": "N-CzTcbzmnGz",
        "outputId": "84c1761e-fed1-4610-ad1f-5af2a3077d43",
        "colab": {
          "base_uri": "https://localhost:8080/",
          "height": 969
        }
      },
      "source": [
        "!pip install voila\n",
        "!jupyter serverextension enable voila —sys-prefix"
      ],
      "execution_count": 3,
      "outputs": [
        {
          "output_type": "stream",
          "text": [
            "Requirement already satisfied: voila in /usr/local/lib/python3.6/dist-packages (0.2.4)\n",
            "Requirement already satisfied: jupyter-server<2.0.0,>=0.3.0 in /usr/local/lib/python3.6/dist-packages (from voila) (1.0.5)\n",
            "Collecting nbconvert<7,>=6.0.0\n",
            "  Using cached https://files.pythonhosted.org/packages/13/2f/acbe7006548f3914456ee47f97a2033b1b2f3daf921b12ac94105d87c163/nbconvert-6.0.7-py3-none-any.whl\n",
            "Requirement already satisfied: jupyter-client<7,>=6.1.3 in /usr/local/lib/python3.6/dist-packages (from voila) (6.1.7)\n",
            "Requirement already satisfied: nbclient<0.6,>=0.4.0 in /usr/local/lib/python3.6/dist-packages (from voila) (0.5.0)\n",
            "Requirement already satisfied: tornado>=5.0 in /usr/local/lib/python3.6/dist-packages (from jupyter-server<2.0.0,>=0.3.0->voila) (5.1.1)\n",
            "Requirement already satisfied: terminado>=0.8.3 in /usr/local/lib/python3.6/dist-packages (from jupyter-server<2.0.0,>=0.3.0->voila) (0.9.1)\n",
            "Requirement already satisfied: traitlets>=4.2.1 in /usr/local/lib/python3.6/dist-packages (from jupyter-server<2.0.0,>=0.3.0->voila) (4.3.3)\n",
            "Requirement already satisfied: Send2Trash in /usr/local/lib/python3.6/dist-packages (from jupyter-server<2.0.0,>=0.3.0->voila) (1.5.0)\n",
            "Requirement already satisfied: pyzmq>=17 in /usr/local/lib/python3.6/dist-packages (from jupyter-server<2.0.0,>=0.3.0->voila) (19.0.2)\n",
            "Requirement already satisfied: prometheus-client in /usr/local/lib/python3.6/dist-packages (from jupyter-server<2.0.0,>=0.3.0->voila) (0.8.0)\n",
            "Requirement already satisfied: jinja2 in /usr/local/lib/python3.6/dist-packages (from jupyter-server<2.0.0,>=0.3.0->voila) (2.11.2)\n",
            "Requirement already satisfied: jupyter-core>=4.4.0 in /usr/local/lib/python3.6/dist-packages (from jupyter-server<2.0.0,>=0.3.0->voila) (4.6.3)\n",
            "Requirement already satisfied: nbformat in /usr/local/lib/python3.6/dist-packages (from jupyter-server<2.0.0,>=0.3.0->voila) (5.0.7)\n",
            "Requirement already satisfied: ipython-genutils in /usr/local/lib/python3.6/dist-packages (from jupyter-server<2.0.0,>=0.3.0->voila) (0.2.0)\n",
            "Requirement already satisfied: testpath in /usr/local/lib/python3.6/dist-packages (from nbconvert<7,>=6.0.0->voila) (0.4.4)\n",
            "Requirement already satisfied: defusedxml in /usr/local/lib/python3.6/dist-packages (from nbconvert<7,>=6.0.0->voila) (0.6.0)\n",
            "Requirement already satisfied: pygments>=2.4.1 in /usr/local/lib/python3.6/dist-packages (from nbconvert<7,>=6.0.0->voila) (2.6.1)\n",
            "Requirement already satisfied: mistune<2,>=0.8.1 in /usr/local/lib/python3.6/dist-packages (from nbconvert<7,>=6.0.0->voila) (0.8.4)\n",
            "Requirement already satisfied: pandocfilters>=1.4.1 in /usr/local/lib/python3.6/dist-packages (from nbconvert<7,>=6.0.0->voila) (1.4.2)\n",
            "Requirement already satisfied: bleach in /usr/local/lib/python3.6/dist-packages (from nbconvert<7,>=6.0.0->voila) (3.2.1)\n",
            "Requirement already satisfied: jupyterlab-pygments in /usr/local/lib/python3.6/dist-packages (from nbconvert<7,>=6.0.0->voila) (0.1.2)\n",
            "Requirement already satisfied: entrypoints>=0.2.2 in /usr/local/lib/python3.6/dist-packages (from nbconvert<7,>=6.0.0->voila) (0.3)\n",
            "Requirement already satisfied: python-dateutil>=2.1 in /usr/local/lib/python3.6/dist-packages (from jupyter-client<7,>=6.1.3->voila) (2.8.1)\n",
            "Requirement already satisfied: nest-asyncio in /usr/local/lib/python3.6/dist-packages (from nbclient<0.6,>=0.4.0->voila) (1.4.1)\n",
            "Requirement already satisfied: async-generator in /usr/local/lib/python3.6/dist-packages (from nbclient<0.6,>=0.4.0->voila) (1.10)\n",
            "Requirement already satisfied: ptyprocess; os_name != \"nt\" in /usr/local/lib/python3.6/dist-packages (from terminado>=0.8.3->jupyter-server<2.0.0,>=0.3.0->voila) (0.6.0)\n",
            "Requirement already satisfied: decorator in /usr/local/lib/python3.6/dist-packages (from traitlets>=4.2.1->jupyter-server<2.0.0,>=0.3.0->voila) (4.4.2)\n",
            "Requirement already satisfied: six in /usr/local/lib/python3.6/dist-packages (from traitlets>=4.2.1->jupyter-server<2.0.0,>=0.3.0->voila) (1.15.0)\n",
            "Requirement already satisfied: MarkupSafe>=0.23 in /usr/local/lib/python3.6/dist-packages (from jinja2->jupyter-server<2.0.0,>=0.3.0->voila) (1.1.1)\n",
            "Requirement already satisfied: jsonschema!=2.5.0,>=2.4 in /usr/local/lib/python3.6/dist-packages (from nbformat->jupyter-server<2.0.0,>=0.3.0->voila) (2.6.0)\n",
            "Requirement already satisfied: packaging in /usr/local/lib/python3.6/dist-packages (from bleach->nbconvert<7,>=6.0.0->voila) (20.4)\n",
            "Requirement already satisfied: webencodings in /usr/local/lib/python3.6/dist-packages (from bleach->nbconvert<7,>=6.0.0->voila) (0.5.1)\n",
            "Requirement already satisfied: pyparsing>=2.0.2 in /usr/local/lib/python3.6/dist-packages (from packaging->bleach->nbconvert<7,>=6.0.0->voila) (2.4.7)\n",
            "\u001b[31mERROR: nbdev 1.1.4 has requirement nbconvert<6, but you'll have nbconvert 6.0.7 which is incompatible.\u001b[0m\n",
            "Installing collected packages: nbconvert\n",
            "  Found existing installation: nbconvert 5.6.1\n",
            "    Uninstalling nbconvert-5.6.1:\n",
            "      Successfully uninstalled nbconvert-5.6.1\n",
            "Successfully installed nbconvert-6.0.7\n"
          ],
          "name": "stdout"
        },
        {
          "output_type": "display_data",
          "data": {
            "application/vnd.colab-display-data+json": {
              "pip_warning": {
                "packages": [
                  "nbconvert"
                ]
              }
            }
          },
          "metadata": {
            "tags": []
          }
        },
        {
          "output_type": "stream",
          "text": [
            "Enabling: voila\n",
            "- Writing config: /root/.jupyter\n",
            "    - Validating...\n",
            "Error loading server extension voila\n",
            "     \u001b[31m X\u001b[0m is voila importable?\n",
            "Enabling: —sys-prefix\n",
            "- Writing config: /root/.jupyter\n",
            "    - Validating...\n",
            "Error loading server extension —sys-prefix\n",
            "     \u001b[31m X\u001b[0m is —sys-prefix importable?\n"
          ],
          "name": "stdout"
        }
      ]
    },
    {
      "cell_type": "code",
      "metadata": {
        "id": "yKGUyuYCmBGV"
      },
      "source": [
        "path = Path()\n",
        "path.ls(file_exts='.pkl')\n",
        "learn_inf = load_learner(path/'export.pkl')"
      ],
      "execution_count": 4,
      "outputs": []
    },
    {
      "cell_type": "code",
      "metadata": {
        "id": "GjflMU2Ylazt"
      },
      "source": [
        "btn_upload = widgets.FileUpload()\n",
        "btn_run = widgets.Button(description='Classify')"
      ],
      "execution_count": 5,
      "outputs": []
    },
    {
      "cell_type": "code",
      "metadata": {
        "id": "KQJb8MIblo9j"
      },
      "source": [
        "def on_click_classify(change):\n",
        "    img = PILImage.create(btn_upload.data[-1])\n",
        "    out_pl.clear_output()\n",
        "    with out_pl: display(img.to_thumb(128,128))\n",
        "    pred,pred_idx,probs = learn_inf.predict(img)\n",
        "    lbl_pred.value = f'Prediction: {pred}; Probability: {probs[pred_idx]:.04f}'\n",
        "  \n",
        "btn_run.on_click(on_click_classify)"
      ],
      "execution_count": 9,
      "outputs": []
    },
    {
      "cell_type": "code",
      "metadata": {
        "id": "78x4oQCcovpL"
      },
      "source": [
        "out_pl = widgets.Output()\n",
        "out_pl.clear_output()\n",
        "with out_pl: display(img.to_thumb(128,128))\n",
        "lbl_pred = widgets.Label()"
      ],
      "execution_count": 12,
      "outputs": []
    },
    {
      "cell_type": "code",
      "metadata": {
        "id": "EbUP9L5KltHb",
        "outputId": "59a19e37-a38e-4562-bdd5-e1fe22dd7152",
        "colab": {
          "base_uri": "https://localhost:8080/",
          "height": 273,
          "referenced_widgets": [
            "22a77a90eb5e40c4b25deab901bc9b2c",
            "dfad1ec6318547758dc1dad5ed8f44d6",
            "abfd5b3608144e489383ec118770df3c",
            "184a16dbeecc49f8a9fc0ee6b44b4e1f",
            "d0ff8fbde5174a009f2bf1d254c50513",
            "3e8a6e3d247d4e89a3ee3e0b57708253",
            "5a5131ae59fe4942b5c1d4335f7b7991",
            "62a0b714d97740e884664f0f65ea9f82",
            "9f89b6e5bc2647e5aa4b8e65b1814b13",
            "21076e0dcf2f414f837384e865591acc",
            "25eff80bd7904e67865159353febb1a9",
            "fd5a01b1bc5b46f38de7019d81dcd031",
            "0575834a66cb401780671b52ab0f78ca",
            "067b79d1b5e74bba9c5ebb8e109e08c4",
            "dbf44f7bdb8f4999b2674f1666e07d8a",
            "25505b1170bb49ff8bab9785482d0103"
          ]
        }
      },
      "source": [
        "VBox([widgets.Label('Select your bear!'), \n",
        "      btn_upload, btn_run, out_pl, lbl_pred])"
      ],
      "execution_count": 14,
      "outputs": [
        {
          "output_type": "display_data",
          "data": {
            "application/vnd.jupyter.widget-view+json": {
              "model_id": "22a77a90eb5e40c4b25deab901bc9b2c",
              "version_minor": 0,
              "version_major": 2
            },
            "text/plain": [
              "VBox(children=(Label(value='Select your bear!'), FileUpload(value={'teddy.jpg': {'metadata': {'lastModified': …"
            ]
          },
          "metadata": {
            "tags": []
          }
        }
      ]
    },
    {
      "cell_type": "code",
      "metadata": {
        "id": "EUHUn7azogfb"
      },
      "source": [
        ""
      ],
      "execution_count": null,
      "outputs": []
    }
  ]
}